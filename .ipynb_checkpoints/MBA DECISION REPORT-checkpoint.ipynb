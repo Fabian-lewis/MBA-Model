{
 "cells": [
  {
   "cell_type": "markdown",
   "id": "06b305ea",
   "metadata": {},
   "source": [
    "### Project Summary Report\n",
    "#### 📘 \"Will They Pursue an MBA?\" — Predicting MBA Decisions with AI\n",
    "\n",
    "#### 🎯 SDG Addressed:\n",
    "    SDG 4 – Quality Education\n",
    "    This project contributes to SDG 4 by exploring how machine learning can reveal patterns in higher education decision-making. Specifically, it predicts whether individuals are likely to pursue an MBA based on academic, career, and motivational factors.\n",
    "\n",
    "#### 🧠 Machine Learning Approach Used:\n",
    "    Type: Supervised Learning (Binary Classification)\n",
    "\n",
    "    Models: Logistic Regression, Random Forest, XGBoost\n",
    "\n",
    "    Resampling: SMOTE to address class imbalance (60% Yes vs. 40% No)\n",
    "\n",
    "    Final Model: XGBoost using top 10 most important features\n",
    "\n",
    "#### 📊 Key Features Used:\n",
    "    Expected Post-MBA Salary\n",
    "    Annual Salary (Before MBA)\n",
    "    GRE/GMAT Score\n",
    "    Undergraduate GPA\n",
    "    University Ranking\n",
    "    Entrepreneurial Interest\n",
    "    Networking Importance\n",
    "    Age\n",
    "    Work Experience\n",
    "    MBA Mode (Online vs. On-Campus)\n",
    "\n",
    "\n",
    "#### Results Summary (Final Model: XGBoost):\n",
    "    Class\tPrecision   Recall\tF1-Score\n",
    "    No (0)\t  0.41\t    0.33\t0.37\n",
    "    Yes (1)\t  0.59\t    0.67\t0.63\n",
    "    Overall Accuracy\t–\t–\t53%\n",
    "\n",
    "##### The model is better at identifying \"Yes\" decisions, indicating that motivations to pursue an MBA are more detectable in the data than those to decline."
   ]
  },
  {
   "cell_type": "markdown",
   "id": "b82e8a03",
   "metadata": {},
   "source": [
    "#### Ethical Reflection\n",
    "In building this machine learning model to predict whether individuals are likely to pursue an MBA, it’s important to consider potential ethical implications and sources of bias in the data and modeling process.\n",
    "\n",
    "Firstly, the dataset may inherently reflect social and economic inequalities. For example, features like annual salary, university ranking, and GRE/GMAT scores are heavily influenced by socioeconomic status. This means the model could unintentionally reinforce existing advantages for those with more access to resources, while underestimating the potential of capable individuals with fewer privileges.\n",
    "\n",
    "Secondly, we observed the model consistently performed better on individuals who chose to pursue an MBA, with lower accuracy in predicting those who did not. This imbalance may lead to unfair recommendations or assumptions if used in a real-world scenario — such as incorrectly identifying someone as MBA-bound and influencing career guidance accordingly.\n",
    "\n",
    "Moreover, categorical variables such as gender, location preference, or MBA format (online vs. on-campus) can reflect demographic or cultural factors that must be handled sensitively. Care must be taken not to overinterpret these correlations, especially when they may be proxies for deeper social structures or biases.\n",
    "\n",
    "Finally, while SMOTE helped balance the training data, synthetic examples might still lack the complexity of real-life motivations behind such decisions. Therefore, this model should not be used to make personal, academic, or career decisions autonomously, but rather as a tool to understand broad trends and assist human decision-making.\n",
    "\n",
    "This project promotes fairness by identifying key influences in higher education decisions and could help education planners target support programs more effectively — but must be deployed responsibly with human oversight."
   ]
  },
  {
   "cell_type": "markdown",
   "id": "16d4371e",
   "metadata": {},
   "source": [
    "#### 🛠️ Tech Stack:\n",
    "Python, pandas, scikit-learn, XGBoost, SMOTE\n",
    "\n",
    "#### Impact Potential:\n",
    "This model can inform universities and policymakers about who is more likely to pursue advanced education and why. It can also help guide outreach efforts and targeted scholarships — promoting fairness in access to education."
   ]
  },
  {
   "cell_type": "code",
   "execution_count": null,
   "id": "ca123a72",
   "metadata": {},
   "outputs": [],
   "source": []
  }
 ],
 "metadata": {
  "kernelspec": {
   "display_name": "Python 3 (ipykernel)",
   "language": "python",
   "name": "python3"
  },
  "language_info": {
   "codemirror_mode": {
    "name": "ipython",
    "version": 3
   },
   "file_extension": ".py",
   "mimetype": "text/x-python",
   "name": "python",
   "nbconvert_exporter": "python",
   "pygments_lexer": "ipython3",
   "version": "3.11.4"
  }
 },
 "nbformat": 4,
 "nbformat_minor": 5
}
